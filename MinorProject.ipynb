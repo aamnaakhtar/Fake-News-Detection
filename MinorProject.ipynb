{
  "cells": [
    {
      "cell_type": "markdown",
      "metadata": {
        "id": "view-in-github",
        "colab_type": "text"
      },
      "source": [
        "<a href=\"https://colab.research.google.com/github/aamnaakhtar/Fake-News-Detection/blob/main/MinorProject.ipynb\" target=\"_parent\"><img src=\"https://colab.research.google.com/assets/colab-badge.svg\" alt=\"Open In Colab\"/></a>"
      ]
    },
    {
      "cell_type": "markdown",
      "metadata": {
        "id": "odJz5bFuv4hX"
      },
      "source": [
        "# Importing the Libraries"
      ]
    },
    {
      "cell_type": "code",
      "execution_count": null,
      "metadata": {
        "id": "ybwUEQy-wKoI"
      },
      "outputs": [],
      "source": [
        "import pandas as pd\n",
        "import numpy as np\n",
        "import matplotlib.pyplot as plt\n",
        "import seaborn as sns\n",
        "import re\n",
        "import os\n",
        "import string             #re and string is used to remove special characters"
      ]
    },
    {
      "cell_type": "markdown",
      "metadata": {
        "id": "2J7aMFKqwQaJ"
      },
      "source": [
        "# Importing the Dataset"
      ]
    },
    {
      "cell_type": "code",
      "execution_count": null,
      "metadata": {
        "id": "w4Xz_V-kwPFR"
      },
      "outputs": [],
      "source": [
        "dataset = pd.read_csv('train.csv') "
      ]
    },
    {
      "cell_type": "markdown",
      "metadata": {
        "id": "rMBbfawWwbvi"
      },
      "source": [
        "# Finding the size of the Dataset"
      ]
    },
    {
      "cell_type": "code",
      "execution_count": null,
      "metadata": {
        "id": "bXluq0PpwfOu",
        "colab": {
          "base_uri": "https://localhost:8080/"
        },
        "outputId": "171426bc-694c-4105-e673-a39db0502cba"
      },
      "outputs": [
        {
          "output_type": "execute_result",
          "data": {
            "text/plain": [
              "(20800, 5)"
            ]
          },
          "metadata": {},
          "execution_count": 3
        }
      ],
      "source": [
        "dataset.shape"
      ]
    },
    {
      "cell_type": "markdown",
      "metadata": {
        "id": "e0fyDlMGwinA"
      },
      "source": [
        "It means, the dataset consists of 20800 rows and 5 columns."
      ]
    },
    {
      "cell_type": "markdown",
      "metadata": {
        "id": "xxOK23l5wmna"
      },
      "source": [
        "# Displaying the first five columns"
      ]
    },
    {
      "cell_type": "code",
      "execution_count": null,
      "metadata": {
        "id": "8_xCyg3uwqGA",
        "colab": {
          "base_uri": "https://localhost:8080/",
          "height": 250
        },
        "outputId": "2ecdadb2-37a4-4272-fb17-37ce2d13da6f"
      },
      "outputs": [
        {
          "output_type": "execute_result",
          "data": {
            "text/html": [
              "\n",
              "  <div id=\"df-6f57661b-0252-44fc-9ee0-a45f0ad55a14\">\n",
              "    <div class=\"colab-df-container\">\n",
              "      <div>\n",
              "<style scoped>\n",
              "    .dataframe tbody tr th:only-of-type {\n",
              "        vertical-align: middle;\n",
              "    }\n",
              "\n",
              "    .dataframe tbody tr th {\n",
              "        vertical-align: top;\n",
              "    }\n",
              "\n",
              "    .dataframe thead th {\n",
              "        text-align: right;\n",
              "    }\n",
              "</style>\n",
              "<table border=\"1\" class=\"dataframe\">\n",
              "  <thead>\n",
              "    <tr style=\"text-align: right;\">\n",
              "      <th></th>\n",
              "      <th>id</th>\n",
              "      <th>title</th>\n",
              "      <th>author</th>\n",
              "      <th>text</th>\n",
              "      <th>label</th>\n",
              "    </tr>\n",
              "  </thead>\n",
              "  <tbody>\n",
              "    <tr>\n",
              "      <th>0</th>\n",
              "      <td>0</td>\n",
              "      <td>House Dem Aide: We Didn’t Even See Comey’s Let...</td>\n",
              "      <td>Darrell Lucus</td>\n",
              "      <td>House Dem Aide: We Didn’t Even See Comey’s Let...</td>\n",
              "      <td>1</td>\n",
              "    </tr>\n",
              "    <tr>\n",
              "      <th>1</th>\n",
              "      <td>1</td>\n",
              "      <td>FLYNN: Hillary Clinton, Big Woman on Campus - ...</td>\n",
              "      <td>Daniel J. Flynn</td>\n",
              "      <td>Ever get the feeling your life circles the rou...</td>\n",
              "      <td>0</td>\n",
              "    </tr>\n",
              "    <tr>\n",
              "      <th>2</th>\n",
              "      <td>2</td>\n",
              "      <td>Why the Truth Might Get You Fired</td>\n",
              "      <td>Consortiumnews.com</td>\n",
              "      <td>Why the Truth Might Get You Fired October 29, ...</td>\n",
              "      <td>1</td>\n",
              "    </tr>\n",
              "    <tr>\n",
              "      <th>3</th>\n",
              "      <td>3</td>\n",
              "      <td>15 Civilians Killed In Single US Airstrike Hav...</td>\n",
              "      <td>Jessica Purkiss</td>\n",
              "      <td>Videos 15 Civilians Killed In Single US Airstr...</td>\n",
              "      <td>1</td>\n",
              "    </tr>\n",
              "    <tr>\n",
              "      <th>4</th>\n",
              "      <td>4</td>\n",
              "      <td>Iranian woman jailed for fictional unpublished...</td>\n",
              "      <td>Howard Portnoy</td>\n",
              "      <td>Print \\nAn Iranian woman has been sentenced to...</td>\n",
              "      <td>1</td>\n",
              "    </tr>\n",
              "  </tbody>\n",
              "</table>\n",
              "</div>\n",
              "      <button class=\"colab-df-convert\" onclick=\"convertToInteractive('df-6f57661b-0252-44fc-9ee0-a45f0ad55a14')\"\n",
              "              title=\"Convert this dataframe to an interactive table.\"\n",
              "              style=\"display:none;\">\n",
              "        \n",
              "  <svg xmlns=\"http://www.w3.org/2000/svg\" height=\"24px\"viewBox=\"0 0 24 24\"\n",
              "       width=\"24px\">\n",
              "    <path d=\"M0 0h24v24H0V0z\" fill=\"none\"/>\n",
              "    <path d=\"M18.56 5.44l.94 2.06.94-2.06 2.06-.94-2.06-.94-.94-2.06-.94 2.06-2.06.94zm-11 1L8.5 8.5l.94-2.06 2.06-.94-2.06-.94L8.5 2.5l-.94 2.06-2.06.94zm10 10l.94 2.06.94-2.06 2.06-.94-2.06-.94-.94-2.06-.94 2.06-2.06.94z\"/><path d=\"M17.41 7.96l-1.37-1.37c-.4-.4-.92-.59-1.43-.59-.52 0-1.04.2-1.43.59L10.3 9.45l-7.72 7.72c-.78.78-.78 2.05 0 2.83L4 21.41c.39.39.9.59 1.41.59.51 0 1.02-.2 1.41-.59l7.78-7.78 2.81-2.81c.8-.78.8-2.07 0-2.86zM5.41 20L4 18.59l7.72-7.72 1.47 1.35L5.41 20z\"/>\n",
              "  </svg>\n",
              "      </button>\n",
              "      \n",
              "  <style>\n",
              "    .colab-df-container {\n",
              "      display:flex;\n",
              "      flex-wrap:wrap;\n",
              "      gap: 12px;\n",
              "    }\n",
              "\n",
              "    .colab-df-convert {\n",
              "      background-color: #E8F0FE;\n",
              "      border: none;\n",
              "      border-radius: 50%;\n",
              "      cursor: pointer;\n",
              "      display: none;\n",
              "      fill: #1967D2;\n",
              "      height: 32px;\n",
              "      padding: 0 0 0 0;\n",
              "      width: 32px;\n",
              "    }\n",
              "\n",
              "    .colab-df-convert:hover {\n",
              "      background-color: #E2EBFA;\n",
              "      box-shadow: 0px 1px 2px rgba(60, 64, 67, 0.3), 0px 1px 3px 1px rgba(60, 64, 67, 0.15);\n",
              "      fill: #174EA6;\n",
              "    }\n",
              "\n",
              "    [theme=dark] .colab-df-convert {\n",
              "      background-color: #3B4455;\n",
              "      fill: #D2E3FC;\n",
              "    }\n",
              "\n",
              "    [theme=dark] .colab-df-convert:hover {\n",
              "      background-color: #434B5C;\n",
              "      box-shadow: 0px 1px 3px 1px rgba(0, 0, 0, 0.15);\n",
              "      filter: drop-shadow(0px 1px 2px rgba(0, 0, 0, 0.3));\n",
              "      fill: #FFFFFF;\n",
              "    }\n",
              "  </style>\n",
              "\n",
              "      <script>\n",
              "        const buttonEl =\n",
              "          document.querySelector('#df-6f57661b-0252-44fc-9ee0-a45f0ad55a14 button.colab-df-convert');\n",
              "        buttonEl.style.display =\n",
              "          google.colab.kernel.accessAllowed ? 'block' : 'none';\n",
              "\n",
              "        async function convertToInteractive(key) {\n",
              "          const element = document.querySelector('#df-6f57661b-0252-44fc-9ee0-a45f0ad55a14');\n",
              "          const dataTable =\n",
              "            await google.colab.kernel.invokeFunction('convertToInteractive',\n",
              "                                                     [key], {});\n",
              "          if (!dataTable) return;\n",
              "\n",
              "          const docLinkHtml = 'Like what you see? Visit the ' +\n",
              "            '<a target=\"_blank\" href=https://colab.research.google.com/notebooks/data_table.ipynb>data table notebook</a>'\n",
              "            + ' to learn more about interactive tables.';\n",
              "          element.innerHTML = '';\n",
              "          dataTable['output_type'] = 'display_data';\n",
              "          await google.colab.output.renderOutput(dataTable, element);\n",
              "          const docLink = document.createElement('div');\n",
              "          docLink.innerHTML = docLinkHtml;\n",
              "          element.appendChild(docLink);\n",
              "        }\n",
              "      </script>\n",
              "    </div>\n",
              "  </div>\n",
              "  "
            ],
            "text/plain": [
              "   id  ... label\n",
              "0   0  ...     1\n",
              "1   1  ...     0\n",
              "2   2  ...     1\n",
              "3   3  ...     1\n",
              "4   4  ...     1\n",
              "\n",
              "[5 rows x 5 columns]"
            ]
          },
          "metadata": {},
          "execution_count": 4
        }
      ],
      "source": [
        "dataset.head()"
      ]
    },
    {
      "cell_type": "markdown",
      "metadata": {
        "id": "vv-G9yAewuiY"
      },
      "source": [
        "# Displaying the information about the dataset"
      ]
    },
    {
      "cell_type": "code",
      "execution_count": null,
      "metadata": {
        "id": "alluWtkgwv7m",
        "colab": {
          "base_uri": "https://localhost:8080/"
        },
        "outputId": "d8e0e62a-0515-4c96-9863-3d4677ae9ee4"
      },
      "outputs": [
        {
          "output_type": "stream",
          "name": "stdout",
          "text": [
            "<class 'pandas.core.frame.DataFrame'>\n",
            "RangeIndex: 20800 entries, 0 to 20799\n",
            "Data columns (total 5 columns):\n",
            " #   Column  Non-Null Count  Dtype \n",
            "---  ------  --------------  ----- \n",
            " 0   id      20800 non-null  int64 \n",
            " 1   title   20242 non-null  object\n",
            " 2   author  18843 non-null  object\n",
            " 3   text    20761 non-null  object\n",
            " 4   label   20800 non-null  int64 \n",
            "dtypes: int64(2), object(3)\n",
            "memory usage: 812.6+ KB\n"
          ]
        }
      ],
      "source": [
        "dataset.info()"
      ]
    },
    {
      "cell_type": "markdown",
      "metadata": {
        "id": "Y3ShaGZ0wyOy"
      },
      "source": [
        "# Displaying the count of Real and Fake News"
      ]
    },
    {
      "cell_type": "markdown",
      "metadata": {
        "id": "1-tFV1-cw4wl"
      },
      "source": [
        "0 and 1 indicate real news and fake news respectively"
      ]
    },
    {
      "cell_type": "code",
      "execution_count": null,
      "metadata": {
        "id": "5ZiaMsk5w5xN",
        "colab": {
          "base_uri": "https://localhost:8080/"
        },
        "outputId": "3d3f3e71-3778-4d08-eef4-d4101e65d6f6"
      },
      "outputs": [
        {
          "output_type": "execute_result",
          "data": {
            "text/plain": [
              "1    10413\n",
              "0    10387\n",
              "Name: label, dtype: int64"
            ]
          },
          "metadata": {},
          "execution_count": 6
        }
      ],
      "source": [
        "dataset['label'].value_counts()"
      ]
    },
    {
      "cell_type": "code",
      "source": [
        "sns.countplot(x ='label', data = dataset)\n"
      ],
      "metadata": {
        "colab": {
          "base_uri": "https://localhost:8080/",
          "height": 296
        },
        "id": "gbKzOOQZo9am",
        "outputId": "c143e7d9-bf36-4bed-eedf-f3f3b6c10506"
      },
      "execution_count": null,
      "outputs": [
        {
          "output_type": "execute_result",
          "data": {
            "text/plain": [
              "<matplotlib.axes._subplots.AxesSubplot at 0x7f0c0aa29f10>"
            ]
          },
          "metadata": {},
          "execution_count": 7
        },
        {
          "output_type": "display_data",
          "data": {
            "image/png": "[encoded data removed]",
            "text/plain": [
              "<Figure size 432x288 with 1 Axes>"
            ]
          },
          "metadata": {
            "needs_background": "light"
          }
        }
      ]
    },
    {
      "cell_type": "markdown",
      "metadata": {
        "id": "_n5SGm6uw9mZ"
      },
      "source": [
        "# Checking for Null values"
      ]
    },
    {
      "cell_type": "code",
      "execution_count": null,
      "metadata": {
        "id": "apgzus5PxAuD",
        "colab": {
          "base_uri": "https://localhost:8080/"
        },
        "outputId": "e1294279-d9bd-4839-b66a-6edc0e3c4c2d"
      },
      "outputs": [
        {
          "output_type": "execute_result",
          "data": {
            "text/plain": [
              "id           0\n",
              "title      558\n",
              "author    1957\n",
              "text        39\n",
              "label        0\n",
              "dtype: int64"
            ]
          },
          "metadata": {},
          "execution_count": 8
        }
      ],
      "source": [
        "dataset.isnull().sum()"
      ]
    },
    {
      "cell_type": "code",
      "execution_count": null,
      "metadata": {
        "id": "TtKsK-TKBhzv"
      },
      "outputs": [],
      "source": [
        "dataset = dataset.fillna(' ')"
      ]
    },
    {
      "cell_type": "markdown",
      "metadata": {
        "id": "33cq7DzxA9dU"
      },
      "source": [
        "# Data Preprocessing"
      ]
    },
    {
      "cell_type": "markdown",
      "metadata": {
        "id": "jAwkjWH167Pm"
      },
      "source": [
        "## Remove Empty Text News"
      ]
    },
    {
      "cell_type": "code",
      "execution_count": null,
      "metadata": {
        "id": "nOHgiQUJ66q4"
      },
      "outputs": [],
      "source": [
        "dataset['text'] = dataset['text'].str.strip()                                   #Remove spaces at the beginning and at the end of the string\n",
        "dataset['text'] = dataset['text'].replace(r'^\\s*$', np.nan, regex=True)         #RegEx Match method checks for a match only at the beginning of the string. But if a match is found in some other line, the Python RegEx Match function returns null\n",
        "dataset.dropna(subset=['text'], inplace=True)                                   #Remove all rows where complaints column is nan\n"
      ]
    },
    {
      "cell_type": "markdown",
      "metadata": {
        "id": "2Ci00FhiAkeH"
      },
      "source": [
        "## Working on Duplicate Data"
      ]
    },
    {
      "cell_type": "code",
      "execution_count": null,
      "metadata": {
        "id": "Tqdu_aew_Tn2",
        "colab": {
          "base_uri": "https://localhost:8080/"
        },
        "outputId": "09c1899c-4e02-48be-c0eb-46fa6736172b"
      },
      "outputs": [
        {
          "output_type": "execute_result",
          "data": {
            "text/plain": [
              "False    20378\n",
              "True       306\n",
              "dtype: int64"
            ]
          },
          "metadata": {},
          "execution_count": 11
        }
      ],
      "source": [
        "dataset.duplicated(subset=[\"text\"]).value_counts()                               #Checking for duplicate entries"
      ]
    },
    {
      "cell_type": "code",
      "execution_count": null,
      "metadata": {
        "id": "rb83ZVq3_97e",
        "colab": {
          "base_uri": "https://localhost:8080/"
        },
        "outputId": "82db3621-e7ac-4327-abb0-c7edf2cb5bfd"
      },
      "outputs": [
        {
          "output_type": "execute_result",
          "data": {
            "text/plain": [
              "(20378, 5)"
            ]
          },
          "metadata": {},
          "execution_count": 12
        }
      ],
      "source": [
        "dataset = dataset.drop_duplicates(subset={\"text\"}, keep='first', inplace=False)     #Dropping duplicate data\n",
        "dataset.shape"
      ]
    },
    {
      "cell_type": "markdown",
      "metadata": {
        "id": "g9ITiqPQ-EwO"
      },
      "source": [
        "# Vectorization"
      ]
    },
    {
      "cell_type": "code",
      "execution_count": null,
      "metadata": {
        "id": "IoTxOFIcBsGr"
      },
      "outputs": [],
      "source": [
        "x = dataset['text'].values\n",
        "y = dataset['label'].values"
      ]
    },
    {
      "cell_type": "markdown",
      "metadata": {
        "id": "psMff7MiDdUO"
      },
      "source": [
        "# Split the dataset into training and testing sets"
      ]
    },
    {
      "cell_type": "code",
      "execution_count": null,
      "metadata": {
        "id": "2SgC7GtvDSCf"
      },
      "outputs": [],
      "source": [
        "from sklearn.model_selection import train_test_split\n",
        "x_train, x_test, y_train, y_test = train_test_split(x, y, test_size=0.2, random_state=7)"
      ]
    },
    {
      "cell_type": "markdown",
      "metadata": {
        "id": "L1hKZNrFEZJq"
      },
      "source": [
        "# TF-IDF Vectorizer"
      ]
    },
    {
      "cell_type": "code",
      "execution_count": null,
      "metadata": {
        "id": "SilVrisR-Y0q"
      },
      "outputs": [],
      "source": [
        "from sklearn.feature_extraction.text import TfidfVectorizer, CountVectorizer\n",
        "tfidf_vectorizer = TfidfVectorizer(stop_words='english',  max_features=50, ngram_range=(1,3))\n",
        "tfidf_train=tfidf_vectorizer.fit_transform(x_train) \n",
        "tfidf_test=tfidf_vectorizer.transform(x_test)"
      ]
    },
    {
      "cell_type": "markdown",
      "metadata": {
        "id": "cU624UK2G3Gp"
      },
      "source": [
        "# Passive Aggressive Classifier"
      ]
    },
    {
      "cell_type": "code",
      "execution_count": null,
      "metadata": {
        "id": "bRPKahH7G8gK"
      },
      "outputs": [],
      "source": [
        "from sklearn.linear_model import PassiveAggressiveClassifier\n",
        "classifier = PassiveAggressiveClassifier(max_iter=50)\n",
        "classifier.fit(tfidf_train, y_train)\n",
        "y_pred = classifier.predict(tfidf_test)"
      ]
    },
    {
      "cell_type": "markdown",
      "metadata": {
        "id": "NQKsh9beI5j4"
      },
      "source": [
        "# Output Analysis"
      ]
    },
    {
      "cell_type": "code",
      "execution_count": null,
      "metadata": {
        "id": "_R1fbbIlHziJ",
        "colab": {
          "base_uri": "https://localhost:8080/"
        },
        "outputId": "1f2f163b-888b-4d2c-d0e0-38ccce87eb8a"
      },
      "outputs": [
        {
          "output_type": "stream",
          "name": "stdout",
          "text": [
            "Accuracy: 80.37%\n",
            "[[1819  257]\n",
            " [ 543 1457]]\n"
          ]
        }
      ],
      "source": [
        "from sklearn.metrics import confusion_matrix, accuracy_score\n",
        "score=accuracy_score(y_test,y_pred)\n",
        "print(f'Accuracy: {round(score*100,2)}%')\n",
        "matrix = confusion_matrix(y_test,y_pred)\n",
        "print(matrix)"
      ]
    },
    {
      "cell_type": "markdown",
      "source": [
        "# Predicting a News"
      ],
      "metadata": {
        "id": "l6jRFxUKzNug"
      }
    },
    {
      "cell_type": "code",
      "execution_count": null,
      "metadata": {
        "id": "iHPbJI6fE9VW"
      },
      "outputs": [],
      "source": [
        "def individual_result(data1):\n",
        "  tfidf_test=tfidf_vectorizer.transform(data1)\n",
        "  y_pred = classifier.predict(tfidf_test)\n",
        "  value = y_pred[0]\n",
        "  if value==1:\n",
        "    print(\"This news is Fake\")\n",
        "  else:\n",
        "    print(\"This news is Real\")\n",
        "\n",
        "\n"
      ]
    },
    {
      "cell_type": "markdown",
      "source": [
        "# Predicting many news at a time"
      ],
      "metadata": {
        "id": "Cn-_W2TrzZPW"
      }
    },
    {
      "cell_type": "code",
      "source": [
        "def many_result(data1):\n",
        "  tfidf_test=tfidf_vectorizer.transform(data1)\n",
        "  y_pred = classifier.predict(tfidf_test)\n",
        "  for i in y_pred:\n",
        "    value = i\n",
        "    if value==1:\n",
        "      print(\"This news is Fake\")\n",
        "    else:\n",
        "      print(\"This news is Real\")\n"
      ],
      "metadata": {
        "id": "2IUFuifAtYFx"
      },
      "execution_count": null,
      "outputs": []
    },
    {
      "cell_type": "code",
      "source": [
        "x_test.shape"
      ],
      "metadata": {
        "colab": {
          "base_uri": "https://localhost:8080/"
        },
        "id": "jFNAiYlctiGq",
        "outputId": "8c47e70a-d601-4dad-91fb-e97d3b1bb228"
      },
      "execution_count": null,
      "outputs": [
        {
          "output_type": "execute_result",
          "data": {
            "text/plain": [
              "(4076,)"
            ]
          },
          "metadata": {},
          "execution_count": 23
        }
      ]
    },
    {
      "cell_type": "markdown",
      "source": [
        "# Testing on a real news"
      ],
      "metadata": {
        "id": "nTQrpKkkz3xg"
      }
    },
    {
      "cell_type": "code",
      "execution_count": null,
      "metadata": {
        "id": "4nCNy1JrGxdH"
      },
      "outputs": [],
      "source": [
        "news = [\"\"\"The Centre on Tuesday said that the\n",
        " Omicron variant of COVID-19 is at least thrice more transmissible than Delta and asked\n",
        "  states and union territories to \"activate\" war rooms, keep analyzing even small trends \n",
        "and surges and keep taking strict and prompt containment action at district and local levels In\n",
        " a letter to the states and union territories, Union Health Secretary Rajesh Bhushan advised \n",
        " implementing strategic interventions for containment like imposition of night curfew, strict \n",
        " regulation of large gatherings, \n",
        "curtailing numbers in marriages and funerals besides increasing testing and surveillance.\"\"\"]"
      ]
    },
    {
      "cell_type": "code",
      "source": [
        "result(news)"
      ],
      "metadata": {
        "colab": {
          "base_uri": "https://localhost:8080/"
        },
        "id": "MtZWF98tudQA",
        "outputId": "aaec47d0-09f9-4866-9ecb-f916b8c4d9bc"
      },
      "execution_count": null,
      "outputs": [
        {
          "output_type": "stream",
          "name": "stdout",
          "text": [
            "This news is Real\n"
          ]
        }
      ]
    }
  ],
  "metadata": {
    "colab": {
      "name": "MinorProject.ipynb",
      "provenance": [],
      "collapsed_sections": [],
      "include_colab_link": true
    },
    "kernelspec": {
      "display_name": "Python 3",
      "name": "python3"
    },
    "language_info": {
      "name": "python"
    }
  },
  "nbformat": 4,
  "nbformat_minor": 0
}